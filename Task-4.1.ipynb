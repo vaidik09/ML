{
 "cells": [
  {
   "cell_type": "markdown",
   "metadata": {},
   "source": [
    "🔅 Task 4.1\n",
    "📌 Create image by yourself Using Python Code "
   ]
  },
  {
   "cell_type": "code",
   "execution_count": 1,
   "metadata": {},
   "outputs": [],
   "source": [
    "import cv2"
   ]
  },
  {
   "cell_type": "code",
   "execution_count": 2,
   "metadata": {},
   "outputs": [],
   "source": [
    "import numpy"
   ]
  },
  {
   "cell_type": "code",
   "execution_count": 3,
   "metadata": {},
   "outputs": [],
   "source": [
    "sample_img = numpy.zeros([600,600,3])\n",
    "sample_img[200,200:400:,0] = 255\n",
    "i=201\n",
    "j=199\n",
    "while i!= 250 and j != 150:\n",
    "    sample_img[i,j,0]=255\n",
    "    i+=1\n",
    "    j-=1\n",
    "i=201\n",
    "j=199\n",
    "while i!= 250:\n",
    "    sample_img[i,j,0]=255\n",
    "    i+=1\n",
    "    j+=1\n",
    "sample_img[250,150:450,0] = 255\n",
    "i=200\n",
    "j=400\n",
    "while i!= 250:\n",
    "    sample_img[i,j,0]=255\n",
    "    i+=1\n",
    "    j+=1\n",
    "i=200\n",
    "j=220\n",
    "while i!= 250:\n",
    "    sample_img[i,j,0]=255\n",
    "    i+=1\n",
    "    j+=1\n",
    "i=200\n",
    "j=240\n",
    "while i!= 250:\n",
    "    sample_img[i,j,0]=255\n",
    "    i+=1\n",
    "    j+=1\n",
    "i=200\n",
    "j=260\n",
    "while i!= 250:\n",
    "    sample_img[i,j,0]=255\n",
    "    i+=1\n",
    "    j+=1\n",
    "i=200\n",
    "j=280\n",
    "while i!= 250:\n",
    "    sample_img[i,j,0]=255\n",
    "    i+=1\n",
    "    j+=1\n",
    "i=200\n",
    "j=300\n",
    "while i!= 250:\n",
    "    sample_img[i,j,0]=255\n",
    "    i+=1\n",
    "    j+=1\n",
    "i=200\n",
    "j=320\n",
    "while i!= 250:\n",
    "    sample_img[i,j,0]=255\n",
    "    i+=1\n",
    "    j+=1\n",
    "i=200\n",
    "j=340\n",
    "while i!= 250:\n",
    "    sample_img[i,j,0]=255\n",
    "    i+=1\n",
    "    j+=1\n",
    "i=200\n",
    "j=360\n",
    "while i!= 250:\n",
    "    sample_img[i,j,0]=255\n",
    "    i+=1\n",
    "    j+=1\n",
    "i=200\n",
    "j=380\n",
    "while i!= 250:\n",
    "    sample_img[i,j,0]=255\n",
    "    i+=1\n",
    "    j+=1\n",
    "\n",
    "sample_img[250:390,150,0] = 255\n",
    "sample_img[250:390,247,0] = 255\n",
    "sample_img[250:390,450,0] = 255\n",
    "sample_img[390,150:451,0] = 255\n",
    "sample_img[320:390,180,0] = 255\n",
    "sample_img[320:390,220,0] = 255\n",
    "sample_img[320,180:221,0] = 255\n",
    "sample_img[280,300:400,0] = 255\n",
    "sample_img[280:350,300,0] = 255\n",
    "sample_img[350,300:400,0] = 255\n",
    "sample_img[280:350,400,0] = 255\n",
    "sample_img[315,300:400,0] = 255\n",
    "sample_img[280:350,350,0] = 255\n",
    "sample_img[355:358,215:218,0] = 255\n",
    "cv2.imshow(\"frame\",sample_img)\n",
    "cv2.waitKey()\n",
    "cv2.destroyAllWindows()"
   ]
  },
  {
   "cell_type": "code",
   "execution_count": null,
   "metadata": {},
   "outputs": [],
   "source": []
  }
 ],
 "metadata": {
  "kernelspec": {
   "display_name": "Python 3",
   "language": "python",
   "name": "python3"
  },
  "language_info": {
   "codemirror_mode": {
    "name": "ipython",
    "version": 3
   },
   "file_extension": ".py",
   "mimetype": "text/x-python",
   "name": "python",
   "nbconvert_exporter": "python",
   "pygments_lexer": "ipython3",
   "version": "3.8.5"
  }
 },
 "nbformat": 4,
 "nbformat_minor": 4
}
